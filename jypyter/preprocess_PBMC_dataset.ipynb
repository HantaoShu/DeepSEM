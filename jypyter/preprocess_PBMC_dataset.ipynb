{
 "cells": [
  {
   "cell_type": "markdown",
   "metadata": {},
   "source": [
    "download annoatation from https://github.com/10XGenomics/single-cell-3prime-paper.\n",
    "preprocess h5ad file from mtx, for example, code in https://github.com/imsb-uke/scGAN/blob/master/Misc/Datasets%20format%20conversion.ipynb can be used"
   ]
  },
  {
   "cell_type": "code",
   "execution_count": null,
   "metadata": {},
   "outputs": [],
   "source": [
    "import pandas as pd\n",
    "import scanpy as sc\n",
    "import numpy as np\n",
    "data = sc.read_h5ad('68kPBMCs.h5ad')\n",
    "annotation = pd.read_csv('./68k_pbmc_barcodes_annotation.tsv',sep='\\t')\n",
    "annotation_dict = {item['barcodes']:item['celltype'] for item in annotation.to_dict('records')}\n",
    "data.obs['barcodes'] = data.obs.index\n",
    "data.obs['celltype'] = data.obs['barcodes'].map(annotation_dict)\n",
    "sc.pp.filter_genes(data,min_cells=686)\n",
    "sc.pp.filter_cells(data,min_genes=10)\n",
    "sc.pp.normalize_per_cell(data,20000)\n",
    "sc.pp.log1p(data)\n",
    "sc.pp.highly_variable_genes(data,n_top_genes=1000)\n",
    "data.X = np.exp(data.X.toarray())-1\n",
    "data=data[:,data.var['highly_variable']]"
   ]
  },
  {
   "cell_type": "code",
   "execution_count": null,
   "metadata": {},
   "outputs": [],
   "source": [
    "clustered = data.copy()\n",
    "sc.pp.recipe_zheng17(clustered)\n",
    "sc.pp.neighbors(clustered, n_pcs=50)\n",
    "sc.tl.louvain(clustered, resolution=0.15)"
   ]
  },
  {
   "cell_type": "code",
   "execution_count": null,
   "metadata": {},
   "outputs": [],
   "source": [
    "data.obs['louvain'] = clustered.obs['louvain']"
   ]
  }
 ],
 "metadata": {
  "kernelspec": {
   "display_name": "Python 3",
   "language": "python",
   "name": "python3"
  },
  "language_info": {
   "codemirror_mode": {
    "name": "ipython",
    "version": 3
   },
   "file_extension": ".py",
   "mimetype": "text/x-python",
   "name": "python",
   "nbconvert_exporter": "python",
   "pygments_lexer": "ipython3",
   "version": "3.7.6"
  }
 },
 "nbformat": 4,
 "nbformat_minor": 4
}
