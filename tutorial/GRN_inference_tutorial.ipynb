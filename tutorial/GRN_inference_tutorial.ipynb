{
 "cells": [
  {
   "cell_type": "markdown",
   "metadata": {},
   "source": [
    "## Data Preparation "
   ]
  },
  {
   "cell_type": "markdown",
   "metadata": {},
   "source": [
    "We use Beeline benchmark to benchmark the performance of DeepSEM.\n",
    "The data preparation process are shown in below.\n",
    "1. Download raw data from https://doi.org/10.5281/zenodo.3378975, which is provided by BEELINE benchmark\n",
    "2. Use the preoprocess code in https://github.com/Murali-group/Beeline/blob/master/generateExpInputs.py to generate dataset.\n",
    "\n",
    "We also provide demo data as shown in ../demo_data/GRN_inference/input "
   ]
  },
  {
   "cell_type": "markdown",
   "metadata": {},
   "source": [
    "# Run DeepSEM by using following command:\n",
    "for cell type specific GRN inference task: python main.py --task non_celltype_GRN --data_file demo_data/GRN_inference/input/500_STRING_hESC/data.csv --net_file demo_data/GRN_inference/input/500_STRING_hESC/label.csv  --save_name out\n",
    "\n",
    "\n",
    "for cell type non-specific GRN inference task: python main.py --task celltype_GRN --data_file demo_data/GRN_inference/input/500_ChIP-seq_hESC/data.csv --net_file demo_data/GRN_inference/input/500_ChIP-seq_hESC/label.csv  --save_name out"
   ]
  },
  {
   "cell_type": "code",
   "execution_count": null,
   "metadata": {},
   "outputs": [],
   "source": [
    "! python main.py --task non_celltype_GRN --data_file demo_data/GRN_inference/input/500_STRING_hESC/data.csv --net_file demo_data/GRN_inference/input/500_STRING_hESC/label.csv --save_name out\n",
    "! python main.py --task celltype_GRN --data_file demo_data/GRN_inference/input/500_ChIP-seq_hESC/data.csv --net_file demo_data/GRN_inference/input/500_ChIP-seq_hESC/label.csv --save_name out"
   ]
  },
  {
   "cell_type": "markdown",
   "metadata": {},
   "source": [
    "# Calculate EPR values"
   ]
  },
  {
   "cell_type": "code",
   "execution_count": 15,
   "metadata": {},
   "outputs": [
    {
     "data": {
      "text/plain": [
       "4.12143991002342"
      ]
     },
     "execution_count": 15,
     "metadata": {},
     "output_type": "execute_result"
    }
   ],
   "source": [
    "import pandas as pd\n",
    "output = pd.read_csv('../demo_data/GRN_inference/output/500_STRING_hESC_demo_output.tsv',sep='\\t')\n",
    "output['EdgeWeight'] = abs(output['EdgeWeight'])\n",
    "output = output.sort_values('EdgeWeight',ascending=False)\n",
    "label = pd.read_csv('../demo_data/GRN_inference/input//500_STRING_hESC/label.csv')\n",
    "TFs = set(label['Gene1'])\n",
    "Genes = set(label['Gene1'])| set(label['Gene2'])\n",
    "output = output[output['Gene1'].apply(lambda x: x in TFs)]\n",
    "output = output[output['Gene2'].apply(lambda x: x in Genes)]\n",
    "label_set = set(label['Gene1']+'|'+label['Gene2'])\n",
    "output= output.iloc[:len(label_set)]\n",
    "len(set(output['Gene1']+'|' +output['Gene2']) & label_set) / (len(label_set)**2/(len(TFs)*len(Genes)-len(TFs)))\n"
   ]
  },
  {
   "cell_type": "markdown",
   "metadata": {},
   "source": [
    "# Calculate AUPR ratio values"
   ]
  },
  {
   "cell_type": "code",
   "execution_count": 27,
   "metadata": {},
   "outputs": [
    {
     "data": {
      "text/plain": [
       "2.0942791999205195"
      ]
     },
     "execution_count": 27,
     "metadata": {},
     "output_type": "execute_result"
    }
   ],
   "source": [
    "from sklearn.metrics import average_precision_score\n",
    "import numpy as np\n",
    "output = pd.read_csv('../demo_data/GRN_inference/output/500_STRING_hESC_demo_output.tsv',sep='\\t')\n",
    "output['EdgeWeight'] = abs(output['EdgeWeight'])\n",
    "output = output.sort_values('EdgeWeight',ascending=False)\n",
    "label = pd.read_csv('../demo_data/GRN_inference/input//500_STRING_hESC/label.csv')\n",
    "TFs = set(label['Gene1'])\n",
    "Genes = set(label['Gene1'])| set(label['Gene2'])\n",
    "output = output[output['Gene1'].apply(lambda x: x in TFs)]\n",
    "output = output[output['Gene2'].apply(lambda x: x in Genes)]\n",
    "label_set = set(label['Gene1']+'|'+label['Gene2'])\n",
    "preds,labels,randoms = [] ,[],[]\n",
    "for item in output.to_dict('records'):\n",
    "    if item['Gene1']+'|'+item['Gene2'] in label_set:\n",
    "        labels.append(1)\n",
    "    else:\n",
    "        labels.append(0)\n",
    "    preds.append(item['EdgeWeight'])\n",
    "\n",
    "average_precision_score(labels,preds)/average_precision_score(labels,np.random.randn(len(preds)))"
   ]
  },
  {
   "cell_type": "markdown",
   "metadata": {},
   "source": [
    "# Ensemble DeepSEM result"
   ]
  },
  {
   "cell_type": "code",
   "execution_count": null,
   "metadata": {},
   "outputs": [],
   "source": [
    "res = []\n",
    "for i in range(10):\n",
    "    res.append(pd.read_csv('../../scGRN/Upload/GRN_inference_benchmark/cross_validation/500_STRING_hESC/rep_i.csv',sep='\\t'))\n",
    "res['EdgeWeight'] = abs(res['EdgeWeight'])\n",
    "res = pd.concat(res)\n",
    "res.groupby(['Gene1','Gene2']).mean()"
   ]
  }
 ],
 "metadata": {
  "kernelspec": {
   "display_name": "geometric",
   "language": "python",
   "name": "geometric"
  },
  "language_info": {
   "codemirror_mode": {
    "name": "ipython",
    "version": 3
   },
   "file_extension": ".py",
   "mimetype": "text/x-python",
   "name": "python",
   "nbconvert_exporter": "python",
   "pygments_lexer": "ipython3",
   "version": "3.7.9"
  }
 },
 "nbformat": 4,
 "nbformat_minor": 2
}
