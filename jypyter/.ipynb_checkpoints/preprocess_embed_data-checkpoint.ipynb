{
 "cells": [
  {
   "cell_type": "markdown",
   "metadata": {},
   "source": [
    "## Preprocess Zeisel dataset"
   ]
  },
  {
   "cell_type": "code",
   "execution_count": null,
   "metadata": {},
   "outputs": [],
   "source": [
    "import pandas as pd\n",
    "import scanpy as sc\n",
    "zeisel = pd.read_csv('../../expression_mRNA_17-Aug-2014.txt',sep='\\t',index_col=0)\n",
    "data = zeisel.iloc[10:,1:].astype(float)\n",
    "adata = sc.AnnData(data)\n",
    "adata = adata.transpose()\n",
    "sc.pp.filter_genes(adata,min_cells=30)\n",
    "adata.var['std'] = adata.X.std(0)\n",
    "adata.obs['label'] = list(zeisel.iloc[7])[1:]\n",
    "Zeisel_dataset = adata[:,adata.var.sort_values('std',ascending=False).iloc[:1000].index]\n",
    "sc.pp.log1p(Zeisel_dataset)"
   ]
  },
  {
   "cell_type": "markdown",
   "metadata": {},
   "source": [
    "## Preprocess  Marouf dataset"
   ]
  },
  {
   "cell_type": "markdown",
   "metadata": {},
   "source": [
    "Here we use the data from paper \"A benchmark of batch-effect correction methods for single-cell RNA sequencing data\" (https://github.com/JinmiaoChenLab/Batch-effect-removal-benchmarking), which collect scRNA-seq profile and annonated data."
   ]
  },
  {
   "cell_type": "code",
   "execution_count": 64,
   "metadata": {},
   "outputs": [],
   "source": [
    "import scanpy as sc\n",
    "data = pd.read_csv('../../batch_effect/dataset4/myData_pancreatic_5batches.txt',sep='\\t')\n",
    "data = sc.AnnData(data.values.transpose())\n",
    "data.obs = pd.read_csv('../../batch_effect/dataset4/mySample_pancreatic_5batches.txt',sep='\\t')"
   ]
  },
  {
   "cell_type": "code",
   "execution_count": 72,
   "metadata": {},
   "outputs": [
    {
     "name": "stderr",
     "output_type": "stream",
     "text": [
      "/data/shuhantao/anaconda3/lib/python3.7/site-packages/anndata/_core/anndata.py:1094: FutureWarning: is_categorical is deprecated and will be removed in a future version.  Use is_categorical_dtype instead\n",
      "  if not is_categorical(df_full[k]):\n",
      "Trying to set attribute `.var` of view, copying.\n",
      "/data/shuhantao/anaconda3/lib/python3.7/site-packages/scanpy/preprocessing/_simple.py:339: UserWarning: Revieved a view of an AnnData. Making a copy.\n",
      "  view_to_actual(adata)\n"
     ]
    }
   ],
   "source": [
    "Marouf = data[data.obs['batch']==2]\n",
    "sc.pp.filter_genes(Marouf,min_cells=20)\n",
    "Marouf.var['std'] = Marouf.X.std(0)\n",
    "Marouf = Marouf[:,Marouf.var.sort_values('std',ascending=False).iloc[:1000].index]\n",
    "sc.pp.log1p(Marouf)"
   ]
  }
 ],
 "metadata": {
  "kernelspec": {
   "display_name": "Python 3",
   "language": "python",
   "name": "python3"
  },
  "language_info": {
   "codemirror_mode": {
    "name": "ipython",
    "version": 3
   },
   "file_extension": ".py",
   "mimetype": "text/x-python",
   "name": "python",
   "nbconvert_exporter": "python",
   "pygments_lexer": "ipython3",
   "version": "3.7.6"
  }
 },
 "nbformat": 4,
 "nbformat_minor": 4
}
